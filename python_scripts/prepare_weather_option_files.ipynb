{
 "cells": [
  {
   "cell_type": "code",
   "execution_count": null,
   "id": "productive-motivation",
   "metadata": {},
   "outputs": [],
   "source": [
    "import sys\n",
    "import os\n",
    "import h5py\n",
    "import warnings\n",
    "import numpy as np\n",
    "import matplotlib.pyplot as plt\n",
    "import xarray as xr\n",
    "import pandas as pd\n",
    "import scipy.signal\n",
    "import seaborn as sns\n",
    "from scipy.stats import genextreme as gev, kstest\n",
    "# from pyextremes import get_extremes, get_return_periods, EVA\n",
    "import matplotlib.dates as mdates\n",
    "\n",
    "warnings.filterwarnings(\"ignore\")\n",
    "\n",
    "sns.set(style='ticks', font_scale=1.25)"
   ]
  },
  {
   "cell_type": "code",
   "execution_count": null,
   "id": "94e2e882",
   "metadata": {},
   "outputs": [],
   "source": [
    "workdir = '../examples/test2/'"
   ]
  },
  {
   "cell_type": "code",
   "execution_count": null,
   "id": "3e69fae7",
   "metadata": {},
   "outputs": [],
   "source": [
    "onset_year = 1980\n",
    "\n",
    "all_years = np.arange(1980,2023)\n",
    "\n",
    "fid00 = open(os.path.join(workdir,'runscript'), 'wt')\n",
    "\n",
    "fid00.write('1 1 1 1'+'\\n')\n",
    "fid00.write('st022852'+'\\n')\n",
    "fid00.write('tp022852'+'\\n')\n",
    "\n",
    "fid00.write(str(len(all_years))+' 1'+'\\n')\n",
    "\n",
    "for yr in all_years:\n",
    "\n",
    "    fid00.write('1 1'+'\\n')\n",
    "\n",
    "    fid00.write('w1980022852'+'\\n')\n",
    "\n",
    "    default_soil_headline = {'start date of scenario':'0101'+str(yr),\n",
    "                         'end date of scenario':'3112'+str(yr),\n",
    "                         'start date of run':'0101'+str(onset_year),\n",
    "                         'generate files data':'NO',\n",
    "                         'generate checkpoint files':'NO',\n",
    "                         'resume from earlier files':'NO',\n",
    "                         'changes 1': '1,0,0,1,1,1,1,1,1,1',\n",
    "                         'changes 2': '1,0,0,1,1,1,1,1,1,1',\n",
    "                         'changes 3': '1,0,0,1,1,1,1,1,1,1',\n",
    "                         'changes 4': '1,0,0,1,1,1,1,1,1,1',\n",
    "                         'last line': '12,12,24,1,1,0'\n",
    "                        #  'number of heat cycles per hour': 2,\n",
    "                        #  'number of gas flux calcns': 2,\n",
    "                        #  'output frequency for hourly': 1,\n",
    "                        #  'output frequency for daily':1,\n",
    "                        #  'output frequency for checkpoint':1,\n",
    "                        #  'changes to weather data': 0\n",
    "                         }\n",
    "    \n",
    "    fid = open(os.path.join(workdir,'opt'+str(yr)), 'wt')\n",
    "\n",
    "    for i in default_soil_headline:\n",
    "\n",
    "        print(default_soil_headline[i])\n",
    "\n",
    "        fid.write(default_soil_headline[i]+'\\n')\n",
    "\n",
    "    fid.close()\n",
    "\n",
    "    fid00.write('opt'+str(yr)+'\\n')\n",
    "\n",
    "    fid00.write('NO\\n')\n",
    "    fid00.write('NO\\n')\n",
    "    fid00.write('NO\\n')\n",
    "    fid00.write('da\\n')\n",
    "    fid00.write('NO\\n')\n",
    "    fid00.write('NO\\n')\n",
    "    fid00.write('ds\\n')\n",
    "    fid00.write('NO\\n')\n",
    "    fid00.write('dw\\n')\n",
    "    fid00.write('NO\\n')\n",
    "    fid00.write('NO\\n')\n",
    "    fid00.write('NO\\n')\n",
    "\n",
    "\n",
    "print(len(default_soil_headline))\n",
    "\n",
    "# NOTE: the order can NOT be changed ...\n",
    "fid00.write('0 0\\n')\n",
    "fid00.close()"
   ]
  }
 ],
 "metadata": {
  "kernelspec": {
   "display_name": "Python 3 (ipykernel)",
   "language": "python",
   "name": "python3"
  },
  "language_info": {
   "codemirror_mode": {
    "name": "ipython",
    "version": 3
   },
   "file_extension": ".py",
   "mimetype": "text/x-python",
   "name": "python",
   "nbconvert_exporter": "python",
   "pygments_lexer": "ipython3",
   "version": "3.9.7"
  },
  "toc": {
   "base_numbering": 1,
   "nav_menu": {},
   "number_sections": true,
   "sideBar": true,
   "skip_h1_title": false,
   "title_cell": "Table of Contents",
   "title_sidebar": "Contents",
   "toc_cell": false,
   "toc_position": {
    "height": "calc(100% - 180px)",
    "left": "10px",
    "top": "150px",
    "width": "185px"
   },
   "toc_section_display": true,
   "toc_window_display": true
  },
  "vscode": {
   "interpreter": {
    "hash": "bbf25602a3d8795db9f3a468a9130adfcace0885c5d3e34b41391447488e8ce4"
   }
  }
 },
 "nbformat": 4,
 "nbformat_minor": 5
}
