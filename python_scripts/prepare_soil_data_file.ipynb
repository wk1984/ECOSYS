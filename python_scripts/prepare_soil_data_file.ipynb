{
 "cells": [
  {
   "cell_type": "code",
   "execution_count": null,
   "id": "productive-motivation",
   "metadata": {},
   "outputs": [],
   "source": [
    "import sys\n",
    "import os\n",
    "import h5py\n",
    "import warnings\n",
    "import numpy as np\n",
    "import matplotlib.pyplot as plt\n",
    "import xarray as xr\n",
    "import pandas as pd\n",
    "import scipy.signal\n",
    "import seaborn as sns\n",
    "from scipy.stats import genextreme as gev, kstest\n",
    "# from pyextremes import get_extremes, get_return_periods, EVA\n",
    "import matplotlib.dates as mdates\n",
    "\n",
    "warnings.filterwarnings(\"ignore\")\n",
    "\n",
    "sns.set(style='ticks', font_scale=1.25)"
   ]
  },
  {
   "cell_type": "code",
   "execution_count": null,
   "id": "94e2e882",
   "metadata": {},
   "outputs": [],
   "source": [
    "workdir = '../examples/test2/'"
   ]
  },
  {
   "cell_type": "code",
   "execution_count": null,
   "id": "1ea66f3b",
   "metadata": {},
   "outputs": [],
   "source": [
    "default_soil_headline = {'water potentials at field capacity':-0.03,\n",
    "                         'wilting point (MPa)':1.5,\n",
    "                         'wet soil albedo':0.12,\n",
    "                         'litter pH':3.72,\n",
    "                         # >>> NINE lines, 3X3\n",
    "                         'C for fine': 500,\n",
    "                         'N for fine': 12.5,\n",
    "                         'P for fine': 1.25,\n",
    "                         'C for woody': 0,\n",
    "                         'N for woody': 0,\n",
    "                         'P for woody': 0,\n",
    "                         'C for manure': 0,\n",
    "                         'N for manure': 0,\n",
    "                         'P for manure': 0,\n",
    "                         # <<< \n",
    "                         'surface litter type [plant]': 10,\n",
    "                         'surface litter type [manure]': 0,\n",
    "                         'number of soil surface layer':1,\n",
    "                         'maximum rooting layer':20,\n",
    "                         'number of additional layers below rooting layer with data file':0,\n",
    "                         'number of additional layers below rooting layer without data file':0,\n",
    "                         'soil profile':1}\n",
    "\n",
    "print(len(default_soil_headline))\n",
    "\n",
    "# NOTE: the order can NOT be changed ..."
   ]
  },
  {
   "cell_type": "code",
   "execution_count": null,
   "id": "e26f54c3",
   "metadata": {},
   "outputs": [],
   "source": [
    "# Soil nodes below surface ...\n",
    "\n",
    "CDPTH = [0.01, 0.05, 0.15, 0.30,0.50,0.80,1.10,1.60,2.40, 3.20, 4.00, 5.00,7.00,9.00, 12.00, 15.00, 20.00, 25.00, 30.00, 40.00]\n",
    "\n",
    "if len(CDPTH) == 20:\n",
    "    pass\n",
    "else:\n",
    "    raise ValueError('must have 20 values')"
   ]
  },
  {
   "cell_type": "code",
   "execution_count": null,
   "id": "fabad5cd",
   "metadata": {},
   "outputs": [],
   "source": [
    "# Soil bulk density ...\n",
    "\n",
    "BKDSI = [1.1,1.1,1.21,1.21,1.47,1.47,1.47,1.47]\n",
    "BKDSI.extend([BKDSI[-1]]*(20 - len(BKDSI)))\n",
    "\n",
    "# print(BKDSI)\n",
    "\n",
    "if len(BKDSI) == 20:\n",
    "    pass\n",
    "else:\n",
    "    raise ValueError('must have 20 values')"
   ]
  },
  {
   "cell_type": "code",
   "execution_count": null,
   "id": "a46d0b46",
   "metadata": {},
   "outputs": [],
   "source": [
    "# Field capacity ...\n",
    "\n",
    "FC = [-1.00]\n",
    "FC.extend([FC[-1]]*(20 - len(FC)))\n",
    "\n",
    "# print(FC)\n",
    "\n",
    "if len(FC) == 20:\n",
    "    pass\n",
    "else:\n",
    "    raise ValueError('must have 20 values')"
   ]
  },
  {
   "cell_type": "code",
   "execution_count": null,
   "id": "d1b170bb",
   "metadata": {},
   "outputs": [],
   "source": [
    "# Wilting point ...\n",
    "\n",
    "WP = [-1.00]\n",
    "WP.extend([WP[-1]]*(20 - len(WP)))\n",
    "\n",
    "# print(WP)\n",
    "\n",
    "if len(WP) == 20:\n",
    "    pass\n",
    "else:\n",
    "    raise ValueError('must have 20 values')"
   ]
  },
  {
   "cell_type": "code",
   "execution_count": null,
   "id": "57a9bc68",
   "metadata": {},
   "outputs": [],
   "source": [
    "# Vertical Ksat ...\n",
    "\n",
    "SCNV = [-1.00]\n",
    "SCNV.extend([SCNV[-1]]*(20 - len(SCNV)))\n",
    "\n",
    "# print(SCNV)\n",
    "\n",
    "if len(SCNV) == 20:\n",
    "    pass\n",
    "else:\n",
    "    raise ValueError('must have 20 values')"
   ]
  },
  {
   "cell_type": "code",
   "execution_count": null,
   "id": "d05aad6e",
   "metadata": {},
   "outputs": [],
   "source": [
    "# Lateral Ksat ...\n",
    "\n",
    "SCNH = [-1.00]\n",
    "SCNH.extend([SCNH[-1]]*(20 - len(SCNH)))\n",
    "\n",
    "# print(SCNH)\n",
    "\n",
    "if len(SCNH) == 20:\n",
    "    pass\n",
    "else:\n",
    "    raise ValueError('must have 20 values')"
   ]
  },
  {
   "cell_type": "code",
   "execution_count": null,
   "id": "5770ded1",
   "metadata": {},
   "outputs": [],
   "source": [
    "# Sand contents ...\n",
    "\n",
    "CSAND = [250]\n",
    "CSAND.extend([CSAND[-1]]*(20 - len(CSAND)))\n",
    "\n",
    "# print(CSAND)\n",
    "\n",
    "if len(CSAND) == 20:\n",
    "    pass\n",
    "else:\n",
    "    raise ValueError('must have 20 values')"
   ]
  },
  {
   "cell_type": "code",
   "execution_count": null,
   "id": "c51e1a38",
   "metadata": {},
   "outputs": [],
   "source": [
    "# Silt contents ...\n",
    "\n",
    "CSILT = [600]\n",
    "CSILT.extend([CSILT[-1]]*(20 - len(CSILT)))\n",
    "\n",
    "# print(CSILT)\n",
    "\n",
    "if len(CSILT) == 20:\n",
    "    pass\n",
    "else:\n",
    "    raise ValueError('must have 20 values')"
   ]
  },
  {
   "cell_type": "code",
   "execution_count": null,
   "id": "d29da0b6",
   "metadata": {},
   "outputs": [],
   "source": [
    "# macropore fraction ...\n",
    "\n",
    "FHOL = [0]\n",
    "FHOL.extend([FHOL[-1]]*(20 - len(FHOL)))\n",
    "\n",
    "# print(FHOL)\n",
    "\n",
    "if len(FHOL) == 20:\n",
    "    pass\n",
    "else:\n",
    "    raise ValueError('must have 20 values')\n"
   ]
  },
  {
   "cell_type": "code",
   "execution_count": null,
   "id": "e185cc04",
   "metadata": {},
   "outputs": [],
   "source": [
    "# Rock fraction ...\n",
    "\n",
    "ROCK = [0]\n",
    "ROCK.extend([ROCK[-1]]*(20 - len(ROCK)))\n",
    "\n",
    "# print(ROCK)\n",
    "\n",
    "if len(ROCK) == 20:\n",
    "    pass\n",
    "else:\n",
    "    raise ValueError('must have 20 values')\n"
   ]
  },
  {
   "cell_type": "code",
   "execution_count": null,
   "id": "68402c30",
   "metadata": {},
   "outputs": [],
   "source": [
    "# PH...\n",
    "\n",
    "PH = [7]\n",
    "PH.extend([PH[-1]]*(20 - len(PH)))\n",
    "\n",
    "# print(PH)\n",
    "\n",
    "if len(PH) == 20:\n",
    "    pass\n",
    "else:\n",
    "    raise ValueError('must have 20 values')\n"
   ]
  },
  {
   "cell_type": "code",
   "execution_count": null,
   "id": "8bf5e129",
   "metadata": {},
   "outputs": [],
   "source": [
    "# Cation exchange capacity ...\n",
    "\n",
    "CEC = [-1.00]\n",
    "CEC.extend([CEC[-1]]*(20 - len(CEC)))\n",
    "\n",
    "# print(CEC)\n",
    "\n",
    "if len(CEC) == 20:\n",
    "    pass\n",
    "else:\n",
    "    raise ValueError('must have 20 values')"
   ]
  },
  {
   "cell_type": "code",
   "execution_count": null,
   "id": "c277936c",
   "metadata": {},
   "outputs": [],
   "source": [
    "# Anion exchange capacity ...\n",
    "\n",
    "AEC = [-1.00]\n",
    "AEC.extend([AEC[-1]]*(20 - len(AEC)))\n",
    "\n",
    "# print(AEC)\n",
    "\n",
    "if len(AEC) == 20:\n",
    "    pass\n",
    "else:\n",
    "    raise ValueError('must have 20 values')"
   ]
  },
  {
   "cell_type": "code",
   "execution_count": null,
   "id": "66a04de2",
   "metadata": {},
   "outputs": [],
   "source": [
    "# SOC contents ...\n",
    "\n",
    "CORGC = [80]\n",
    "CORGC.extend([CORGC[-1]]*(20 - len(CORGC)))\n",
    "\n",
    "# print(CORGC)\n",
    "\n",
    "if len(CORGC) == 20:\n",
    "    pass\n",
    "else:\n",
    "    raise ValueError('must have 20 values')"
   ]
  },
  {
   "cell_type": "code",
   "execution_count": null,
   "id": "53342cfe",
   "metadata": {},
   "outputs": [],
   "source": [
    "# POC contents ...\n",
    "\n",
    "CORGR = [0]\n",
    "CORGR.extend([CORGR[-1]]*(20 - len(CORGR)))\n",
    "\n",
    "# print(CORGR)\n",
    "\n",
    "if len(CORGR) == 20:\n",
    "    pass\n",
    "else:\n",
    "    raise ValueError('must have 20 values')"
   ]
  },
  {
   "cell_type": "code",
   "execution_count": null,
   "id": "bb82e76a",
   "metadata": {},
   "outputs": [],
   "source": [
    "# SON contents ...\n",
    "\n",
    "CORGN = [-1]\n",
    "CORGN.extend([CORGN[-1]]*(20 - len(CORGN)))\n",
    "\n",
    "# print(CORGN)\n",
    "\n",
    "if len(CORGN) == 20:\n",
    "    pass\n",
    "else:\n",
    "    raise ValueError('must have 20 values')"
   ]
  },
  {
   "cell_type": "code",
   "execution_count": null,
   "id": "686eadef",
   "metadata": {},
   "outputs": [],
   "source": [
    "# SOP contents ...\n",
    "\n",
    "CORGP = [-1]\n",
    "CORGP.extend([CORGP[-1]]*(20 - len(CORGP)))\n",
    "\n",
    "# print(CORGP)\n",
    "\n",
    "if len(CORGP) == 20:\n",
    "    pass\n",
    "else:\n",
    "    raise ValueError('must have 20 values')"
   ]
  },
  {
   "cell_type": "code",
   "execution_count": null,
   "id": "9417e0d6",
   "metadata": {},
   "outputs": [],
   "source": [
    "# NH4 contents ...\n",
    "\n",
    "CNH4 = [0]\n",
    "CNH4.extend([CNH4[-1]]*(20 - len(CNH4)))\n",
    "\n",
    "# print(CNH4)\n",
    "\n",
    "if len(CNH4) == 20:\n",
    "    pass\n",
    "else:\n",
    "    raise ValueError('must have 20 values')"
   ]
  },
  {
   "cell_type": "code",
   "execution_count": null,
   "id": "13bca5e6",
   "metadata": {},
   "outputs": [],
   "source": [
    "# NO3 contents ...\n",
    "\n",
    "CNO3 = [0]\n",
    "CNO3.extend([CNO3[-1]]*(20 - len(CNO3)))\n",
    "\n",
    "# print(CNO3)\n",
    "\n",
    "if len(CNO3) == 20:\n",
    "    pass\n",
    "else:\n",
    "    raise ValueError('must have 20 values')"
   ]
  },
  {
   "cell_type": "code",
   "execution_count": null,
   "id": "c2f98e0b",
   "metadata": {},
   "outputs": [],
   "source": [
    "# PO4 contents ...\n",
    "\n",
    "CPO4 = [0]\n",
    "CPO4.extend([CPO4[-1]]*(20 - len(CPO4)))\n",
    "\n",
    "# print(CPO4)\n",
    "\n",
    "if len(CPO4) == 20:\n",
    "    pass\n",
    "else:\n",
    "    raise ValueError('must have 20 values')"
   ]
  },
  {
   "cell_type": "code",
   "execution_count": null,
   "id": "76545188",
   "metadata": {},
   "outputs": [],
   "source": [
    "# CAL ...\n",
    "\n",
    "CAL = [-1]\n",
    "CAL.extend([CAL[-1]]*(20 - len(CAL)))\n",
    "\n",
    "# print(CAL)\n",
    "\n",
    "if len(CAL) == 20:\n",
    "    pass\n",
    "else:\n",
    "    raise ValueError('must have 20 values')"
   ]
  },
  {
   "cell_type": "code",
   "execution_count": null,
   "id": "ace89a02",
   "metadata": {},
   "outputs": [],
   "source": [
    "# CFE ...\n",
    "\n",
    "CFE = [-1]\n",
    "CFE.extend([CFE[-1]]*(20 - len(CFE)))\n",
    "\n",
    "# print(CFE)\n",
    "\n",
    "if len(CFE) == 20:\n",
    "    pass\n",
    "else:\n",
    "    raise ValueError('must have 20 values')"
   ]
  },
  {
   "cell_type": "code",
   "execution_count": null,
   "id": "098307da",
   "metadata": {},
   "outputs": [],
   "source": [
    "final = np.zeros([54,20])\n",
    "final[0,:] = np.asarray(list(default_soil_headline.values()))\n",
    "\n",
    "final[1,:] = np.asarray(CDPTH)\n",
    "final[2,:] = np.asarray(BKDSI)\n",
    "final[3,:] = np.asarray(FC)\n",
    "final[4,:] = np.asarray(WP)\n",
    "final[5,:] = np.asarray(SCNV)\n",
    "final[6,:] = np.asarray(SCNH)\n",
    "\n",
    "final[7,:] = np.asarray(CSAND)\n",
    "final[8,:] = np.asarray(CSILT)\n",
    "final[9,:] = np.asarray(FHOL)\n",
    "final[10,:] = np.asarray(ROCK)\n",
    "\n",
    "final[11,:] = np.asarray(PH)\n",
    "final[12,:] = np.asarray(CEC)\n",
    "final[13,:] = np.asarray(AEC)\n",
    "\n",
    "final[14,:] = np.asarray(CORGC)\n",
    "final[15,:] = np.asarray(CORGR)\n",
    "final[16,:] = np.asarray(CORGN)\n",
    "final[17,:] = np.asarray(CORGP)\n",
    "\n",
    "final[18,:] = np.asarray(CNH4)\n",
    "final[19,:] = np.asarray(CNO3)\n",
    "final[20,:] = np.asarray(CPO4)\n",
    "\n",
    "final[21,:] = np.asarray(CAL)\n",
    "final[22,:] = np.asarray(CFE)\n",
    "final[23,:] = np.asarray(CFE)\n",
    "final[24,:] = np.asarray(CFE)\n",
    "final[25,:] = np.asarray(CFE)\n",
    "final[26,:] = np.asarray(CFE)\n",
    "final[27,:] = np.asarray(CFE)\n",
    "final[28,:] = np.asarray(CFE)\n",
    "\n",
    "final[29,:] = np.asarray(CAL)\n",
    "final[30,:] = np.asarray(CFE)\n",
    "final[31,:] = np.asarray(CFE)\n",
    "final[32,:] = np.asarray(CFE)\n",
    "final[33,:] = np.asarray(CFE)\n",
    "final[34,:] = np.asarray(CFE)\n",
    "final[35,:] = np.asarray(CFE)\n",
    "final[36,:] = np.asarray(CFE)\n",
    "\n",
    "final[37,:] = np.asarray(CAL)\n",
    "final[38,:] = np.asarray(CFE)\n",
    "final[39,:] = np.asarray(CFE)\n",
    "final[40,:] = np.asarray(CFE)\n",
    "final[41,:] = np.asarray(CFE)\n",
    "final[42,:] = np.asarray(CFE)\n",
    "\n",
    "final[43,:] = np.asarray(CFE) + 1.0\n",
    "final[44,:] = np.asarray(CFE) + 1.2"
   ]
  },
  {
   "cell_type": "code",
   "execution_count": null,
   "id": "74d4088e",
   "metadata": {},
   "outputs": [],
   "source": [
    "np.savetxt('../examples/test2/s022852', final, delimiter=',',fmt='%0.2f')"
   ]
  },
  {
   "cell_type": "code",
   "execution_count": null,
   "id": "b160fd1e",
   "metadata": {},
   "outputs": [],
   "source": [
    "np.asarray(list(default_soil_headline.values()))"
   ]
  }
 ],
 "metadata": {
  "kernelspec": {
   "display_name": "Python 3 (ipykernel)",
   "language": "python",
   "name": "python3"
  },
  "language_info": {
   "codemirror_mode": {
    "name": "ipython",
    "version": 3
   },
   "file_extension": ".py",
   "mimetype": "text/x-python",
   "name": "python",
   "nbconvert_exporter": "python",
   "pygments_lexer": "ipython3",
   "version": "3.9.7"
  },
  "toc": {
   "base_numbering": 1,
   "nav_menu": {},
   "number_sections": true,
   "sideBar": true,
   "skip_h1_title": false,
   "title_cell": "Table of Contents",
   "title_sidebar": "Contents",
   "toc_cell": false,
   "toc_position": {
    "height": "calc(100% - 180px)",
    "left": "10px",
    "top": "150px",
    "width": "185px"
   },
   "toc_section_display": true,
   "toc_window_display": true
  },
  "vscode": {
   "interpreter": {
    "hash": "bbf25602a3d8795db9f3a468a9130adfcace0885c5d3e34b41391447488e8ce4"
   }
  }
 },
 "nbformat": 4,
 "nbformat_minor": 5
}
