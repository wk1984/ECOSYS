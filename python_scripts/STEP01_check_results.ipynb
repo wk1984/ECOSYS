{
 "cells": [
  {
   "cell_type": "code",
   "execution_count": null,
   "id": "productive-motivation",
   "metadata": {},
   "outputs": [],
   "source": [
    "import sys\n",
    "import os\n",
    "# import h5py\n",
    "import warnings\n",
    "import numpy as np\n",
    "import matplotlib.pyplot as plt\n",
    "# import xarray as xr\n",
    "import pandas as pd\n",
    "# import scipy.signal\n",
    "import seaborn as sns\n",
    "# from scipy.stats import genextreme as gev, kstest\n",
    "# from pyextremes import get_extremes, get_return_periods, EVA\n",
    "import matplotlib.dates as mdates\n",
    "\n",
    "warnings.filterwarnings(\"ignore\")\n",
    "\n",
    "sns.set(style='ticks', font_scale=1.25)"
   ]
  },
  {
   "cell_type": "code",
   "execution_count": null,
   "id": "94e2e882",
   "metadata": {},
   "outputs": [],
   "source": [
    "workdir = '../examples/test2/outputs'\n",
    "\n",
    "Depth = [0.01, 0.05, 0.15, 0.30,0.50,0.80,1.10,1.60,2.40, 3.20, 4.00, 5.00,7.00,9.00, 12.00, 15.00, 20.00, 25.00, 30.00, 40.00]\n",
    "\n",
    "year_list = np.arange(2011, 2023)"
   ]
  },
  {
   "cell_type": "code",
   "execution_count": null,
   "id": "5c44adbf",
   "metadata": {},
   "outputs": [],
   "source": [
    "for i, yr in enumerate(year_list):\n",
    "\n",
    "    dump0 = pd.read_csv(os.path.join(workdir, '01010'+str(yr)+'da'), delim_whitespace=True, index_col = 1, date_format = \"%d%m%Y\")\n",
    "    dump1 = pd.read_csv(os.path.join(workdir, '01010'+str(yr)+'ds'), delim_whitespace=True, index_col = 1, date_format = \"%d%m%Y\")\n",
    "\n",
    "    if i ==0 :\n",
    "\n",
    "        out_da = dump0.copy()\n",
    "        out_ds = dump1.copy()\n",
    "    \n",
    "    else:\n",
    "\n",
    "        out_da = pd.concat([out_da, dump0])\n",
    "        out_ds = pd.concat([out_ds, dump1])\n",
    "\n",
    "    print(i, yr)\n",
    "\n",
    "    TSOIL0 = dump1[['TEMP_1', 'TEMP_2', 'TEMP_3', 'TEMP_4', 'TEMP_5', 'TEMP_6', 'TEMP_7',\n",
    "       'TEMP_8', 'TEMP_9', 'TEMP_10', 'TEMP_11', 'TEMP_12', 'TEMP_13',\n",
    "       'TEMP_14', 'TEMP_15', 'TEMP_16', 'TEMP_17', 'TEMP_18', 'TEMP_19',\n",
    "       'TEMP_20']].values\n",
    "    \n",
    "    plt.plot(TSOIL0[0:, ].mean(axis=0), Depth, label = str(yr))\n",
    "\n",
    "plt.ylim([40, 0])\n",
    "plt.legend()\n"
   ]
  },
  {
   "cell_type": "code",
   "execution_count": null,
   "id": "4fefbccf",
   "metadata": {},
   "outputs": [],
   "source": [
    "out_da['ACTV_LYR'][out_da['ACTV_LYR']<-8888] = np.nan\n",
    "out_da['ACTV_LYR'].plot()\n",
    "out_da['ACTV_LYR'].min()"
   ]
  },
  {
   "cell_type": "code",
   "execution_count": null,
   "id": "b7b3e014",
   "metadata": {},
   "outputs": [],
   "source": [
    "out_da['SNOWPACK'].plot()"
   ]
  },
  {
   "cell_type": "code",
   "execution_count": null,
   "id": "65d0b3ed",
   "metadata": {},
   "outputs": [],
   "source": [
    "out_ds.columns"
   ]
  },
  {
   "cell_type": "code",
   "execution_count": null,
   "id": "691811e8",
   "metadata": {},
   "outputs": [],
   "source": [
    "\n",
    "TSOIL = out_ds[['TEMP_1', 'TEMP_2', 'TEMP_3', 'TEMP_4', 'TEMP_5', 'TEMP_6', 'TEMP_7',\n",
    "       'TEMP_8', 'TEMP_9', 'TEMP_10', 'TEMP_11', 'TEMP_12', 'TEMP_13',\n",
    "       'TEMP_14', 'TEMP_15', 'TEMP_16', 'TEMP_17', 'TEMP_18', 'TEMP_19',\n",
    "       'TEMP_20']].values\n",
    "\n",
    "print(TSOIL.shape)"
   ]
  },
  {
   "cell_type": "code",
   "execution_count": null,
   "id": "6fd57016-391f-4ccd-8667-18ef98a2b664",
   "metadata": {},
   "outputs": [],
   "source": [
    "plt.figure(figsize=[10,3.5])\n",
    "plt.pcolormesh(out_ds.index, Depth, TSOIL.T, cmap = 'seismic', vmax=15, vmin=-15)\n",
    "plt.contour(out_ds.index, Depth, TSOIL.T, [0])\n",
    "plt.ylim([5, 0])\n",
    "plt.ylabel('Depth (m)')"
   ]
  },
  {
   "cell_type": "code",
   "execution_count": null,
   "id": "8108585d-97fb-4fa1-a467-6ee6a3089cac",
   "metadata": {},
   "outputs": [],
   "source": []
  }
 ],
 "metadata": {
  "kernelspec": {
   "display_name": "Python 3 (ipykernel)",
   "language": "python",
   "name": "python3"
  },
  "language_info": {
   "codemirror_mode": {
    "name": "ipython",
    "version": 3
   },
   "file_extension": ".py",
   "mimetype": "text/x-python",
   "name": "python",
   "nbconvert_exporter": "python",
   "pygments_lexer": "ipython3",
   "version": "3.9.7"
  },
  "toc": {
   "base_numbering": 1,
   "nav_menu": {},
   "number_sections": true,
   "sideBar": true,
   "skip_h1_title": false,
   "title_cell": "Table of Contents",
   "title_sidebar": "Contents",
   "toc_cell": false,
   "toc_position": {
    "height": "calc(100% - 180px)",
    "left": "10px",
    "top": "150px",
    "width": "185px"
   },
   "toc_section_display": true,
   "toc_window_display": true
  },
  "vscode": {
   "interpreter": {
    "hash": "bbf25602a3d8795db9f3a468a9130adfcace0885c5d3e34b41391447488e8ce4"
   }
  }
 },
 "nbformat": 4,
 "nbformat_minor": 5
}
